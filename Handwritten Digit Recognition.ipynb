{
 "cells": [
  {
   "cell_type": "code",
   "execution_count": 48,
   "id": "8fc5a055",
   "metadata": {
    "collapsed": true
   },
   "outputs": [],
   "source": [
    "# Import neccesart modules\n",
    "import tensorflow as tf\n",
    "import keras\n",
    "import matplotlib.pyplot as plt\n",
    "import numpy as np"
   ]
  },
  {
   "cell_type": "code",
   "execution_count": 33,
   "id": "ad141541",
   "metadata": {},
   "outputs": [
    {
     "name": "stdout",
     "output_type": "stream",
     "text": [
      "Epoch 1/10\n",
      "1875/1875 [==============================] - 1s 635us/step - loss: 0.2631 - accuracy: 0.9233\n",
      "Epoch 2/10\n",
      "1875/1875 [==============================] - 1s 637us/step - loss: 0.1059 - accuracy: 0.9675\n",
      "Epoch 3/10\n",
      "1875/1875 [==============================] - 1s 632us/step - loss: 0.0719 - accuracy: 0.9773\n",
      "Epoch 4/10\n",
      "1875/1875 [==============================] - 1s 632us/step - loss: 0.0536 - accuracy: 0.9827\n",
      "Epoch 5/10\n",
      "1875/1875 [==============================] - 1s 632us/step - loss: 0.0414 - accuracy: 0.9866\n",
      "Epoch 6/10\n",
      "1875/1875 [==============================] - 1s 634us/step - loss: 0.0331 - accuracy: 0.9887\n",
      "Epoch 7/10\n",
      "1875/1875 [==============================] - 1s 633us/step - loss: 0.0269 - accuracy: 0.9908\n",
      "Epoch 8/10\n",
      "1875/1875 [==============================] - 1s 634us/step - loss: 0.0198 - accuracy: 0.9936\n",
      "Epoch 9/10\n",
      "1875/1875 [==============================] - 1s 634us/step - loss: 0.0184 - accuracy: 0.9937\n",
      "Epoch 10/10\n",
      "1875/1875 [==============================] - 1s 631us/step - loss: 0.0158 - accuracy: 0.9942\n"
     ]
    },
    {
     "data": {
      "text/plain": [
       "<keras.callbacks.History at 0x207372a4340>"
      ]
     },
     "execution_count": 33,
     "metadata": {},
     "output_type": "execute_result"
    }
   ],
   "source": [
    "# Load in MNIST datasey ~ 28 x 28 hand drawn digits from 0 to 9\n",
    "mnist = tf.keras.datasets.mnist \n",
    "\n",
    "# Split into train and test data\n",
    "(x_train, y_train), (x_test, y_test) = mnist.load_data()\n",
    "\n",
    "# Normalize x_train and x_test\n",
    "x_train = tf.keras.utils.normalize(x_train, axis=1)\n",
    "x_test= tf.keras.utils.normalize(x_test, axis=1)\n",
    "\n",
    "# Define Model -> Sequential -> Feed Forward\n",
    "model = tf.keras.models.Sequential()\n",
    "\n",
    "# Add model layers\n",
    "model.add(tf.keras.layers.Flatten()) # Flatten input layer\n",
    "model.add(tf.keras.layers.Dense(128, activation=tf.nn.relu)) # add hidden layer, and activation function\n",
    "model.add(tf.keras.layers.Dense(128, activation=tf.nn.relu)) # add another hidden layer, and activation function\n",
    "model.add(tf.keras.layers.Dense(10, activation=tf.nn.softmax)) # Output layer -> Softmax for probability distribution\n",
    "\n",
    "# Compiler model\n",
    "model.compile(optimizer='adam', \n",
    "              loss='sparse_categorical_crossentropy',\n",
    "              metrics=['accuracy'])\n",
    "\n",
    "# Train model\n",
    "model.fit(x_train, y_train, epochs=10)"
   ]
  },
  {
   "cell_type": "code",
   "execution_count": 39,
   "id": "e11876c9",
   "metadata": {},
   "outputs": [
    {
     "name": "stdout",
     "output_type": "stream",
     "text": [
      "313/313 [==============================] - 0s 459us/step - loss: 0.1115 - accuracy: 0.9757\n",
      "\n",
      "Validation Loss:\n",
      "0.11150261014699936\n",
      "\n",
      "Validation Acuracy:\n",
      "0.9757000207901001\n"
     ]
    }
   ],
   "source": [
    "# Calculate validation loss and validation accuracy\n",
    "val_loss, val_acc = model.evaluate(x_test, y_test)\n",
    "print()\n",
    "print(\"Validation Loss:\")\n",
    "print(val_loss)\n",
    "print()\n",
    "print(\"Validation Acuracy:\")\n",
    "print(val_acc)"
   ]
  },
  {
   "cell_type": "code",
   "execution_count": 45,
   "id": "00be0289",
   "metadata": {},
   "outputs": [
    {
     "name": "stdout",
     "output_type": "stream",
     "text": [
      "313/313 [==============================] - 0s 426us/step\n",
      "[[1.3655180e-17 1.1361345e-12 3.3696396e-11 ... 1.0000000e+00\n",
      "  1.5634904e-18 3.5123550e-11]\n",
      " [8.1282283e-18 5.1708170e-14 1.0000000e+00 ... 4.1970433e-21\n",
      "  1.2053429e-22 8.7082954e-30]\n",
      " [6.0124169e-15 9.9999976e-01 4.7007468e-08 ... 6.9237075e-08\n",
      "  1.3297757e-09 4.1517243e-13]\n",
      " ...\n",
      " [5.5077771e-15 7.2232997e-11 5.1295410e-13 ... 3.4282395e-09\n",
      "  4.3058418e-10 3.3472892e-07]\n",
      " [2.7513866e-13 4.3787394e-15 3.5796507e-14 ... 7.9665007e-14\n",
      "  9.8077404e-09 5.7315961e-16]\n",
      " [4.3080523e-14 8.5248250e-15 4.4775091e-12 ... 1.5917950e-16\n",
      "  1.0424181e-13 3.3598147e-18]]\n"
     ]
    }
   ],
   "source": [
    "# Make Predictions\n",
    "predictions = model.predict([x_test])\n",
    "print(predictions)"
   ]
  },
  {
   "cell_type": "code",
   "execution_count": 58,
   "id": "2d3b0b47",
   "metadata": {},
   "outputs": [
    {
     "name": "stdout",
     "output_type": "stream",
     "text": [
      "Prediction:  7\n"
     ]
    },
    {
     "data": {
      "image/png": "[encoded data removed]",
      "text/plain": [
       "<Figure size 432x288 with 1 Axes>"
      ]
     },
     "metadata": {
      "needs_background": "light"
     },
     "output_type": "display_data"
    },
    {
     "name": "stdout",
     "output_type": "stream",
     "text": [
      "Prediction:  2\n"
     ]
    },
    {
     "data": {
      "image/png": "[encoded data removed]",
      "text/plain": [
       "<Figure size 432x288 with 1 Axes>"
      ]
     },
     "metadata": {
      "needs_background": "light"
     },
     "output_type": "display_data"
    },
    {
     "name": "stdout",
     "output_type": "stream",
     "text": [
      "Prediction:  1\n"
     ]
    },
    {
     "data": {
      "image/png": "[encoded data removed]",
      "text/plain": [
       "<Figure size 432x288 with 1 Axes>"
      ]
     },
     "metadata": {
      "needs_background": "light"
     },
     "output_type": "display_data"
    },
    {
     "name": "stdout",
     "output_type": "stream",
     "text": [
      "Prediction:  0\n"
     ]
    },
    {
     "data": {
      "image/png": "[encoded data removed]",
      "text/plain": [
       "<Figure size 432x288 with 1 Axes>"
      ]
     },
     "metadata": {
      "needs_background": "light"
     },
     "output_type": "display_data"
    },
    {
     "name": "stdout",
     "output_type": "stream",
     "text": [
      "Prediction:  4\n"
     ]
    },
    {
     "data": {
      "image/png": "[encoded data removed]",
      "text/plain": [
       "<Figure size 432x288 with 1 Axes>"
      ]
     },
     "metadata": {
      "needs_background": "light"
     },
     "output_type": "display_data"
    },
    {
     "name": "stdout",
     "output_type": "stream",
     "text": [
      "Prediction:  1\n"
     ]
    },
    {
     "data": {
      "image/png": "[encoded data removed]",
      "text/plain": [
       "<Figure size 432x288 with 1 Axes>"
      ]
     },
     "metadata": {
      "needs_background": "light"
     },
     "output_type": "display_data"
    },
    {
     "name": "stdout",
     "output_type": "stream",
     "text": [
      "Prediction:  4\n"
     ]
    },
    {
     "data": {
      "image/png": "[encoded data removed]",
      "text/plain": [
       "<Figure size 432x288 with 1 Axes>"
      ]
     },
     "metadata": {
      "needs_background": "light"
     },
     "output_type": "display_data"
    },
    {
     "name": "stdout",
     "output_type": "stream",
     "text": [
      "Prediction:  9\n"
     ]
    },
    {
     "data": {
      "image/png": "[encoded data removed]",
      "text/plain": [
       "<Figure size 432x288 with 1 Axes>"
      ]
     },
     "metadata": {
      "needs_background": "light"
     },
     "output_type": "display_data"
    },
    {
     "name": "stdout",
     "output_type": "stream",
     "text": [
      "Prediction:  6\n"
     ]
    },
    {
     "data": {
      "image/png": "[encoded data removed]",
      "text/plain": [
       "<Figure size 432x288 with 1 Axes>"
      ]
     },
     "metadata": {
      "needs_background": "light"
     },
     "output_type": "display_data"
    },
    {
     "name": "stdout",
     "output_type": "stream",
     "text": [
      "Prediction:  9\n"
     ]
    },
    {
     "data": {
      "image/png": "[encoded data removed]",
      "text/plain": [
       "<Figure size 432x288 with 1 Axes>"
      ]
     },
     "metadata": {
      "needs_background": "light"
     },
     "output_type": "display_data"
    }
   ],
   "source": [
    "# Test Model and Predictions\n",
    "for i in range(10):\n",
    "    print(\"Prediction: \",np.argmax(predictions[i]))\n",
    "    plt.figure()\n",
    "    plt.imshow(x_test[i], cmap = plt.cm.binary )\n",
    "    plt.show()"
   ]
  },
  {
   "cell_type": "code",
   "execution_count": 40,
   "id": "82c85571",
   "metadata": {},
   "outputs": [
    {
     "name": "stdout",
     "output_type": "stream",
     "text": [
      "INFO:tensorflow:Assets written to: num_reader.model\\assets\n"
     ]
    }
   ],
   "source": [
    "# Save model\n",
    "model.save('num_reader.model')\n",
    "\n",
    "# To Load Model\n",
    "# new_model = tf.keras.models.load_model('num_reader.model')"
   ]
  }
 ],
 "metadata": {
  "kernelspec": {
   "display_name": "Python 3 (ipykernel)",
   "language": "python",
   "name": "python3"
  },
  "language_info": {
   "codemirror_mode": {
    "name": "ipython",
    "version": 3
   },
   "file_extension": ".py",
   "mimetype": "text/x-python",
   "name": "python",
   "nbconvert_exporter": "python",
   "pygments_lexer": "ipython3",
   "version": "3.9.12"
  }
 },
 "nbformat": 4,
 "nbformat_minor": 5
}
